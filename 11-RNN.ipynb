{
 "cells": [
  {
   "attachments": {},
   "cell_type": "markdown",
   "metadata": {},
   "source": [
    "# Recurrent Neural Network\n",
    "## 1. RNN using `nn.RNNCell`\n",
    "..."
   ]
  },
  {
   "attachments": {},
   "cell_type": "markdown",
   "metadata": {},
   "source": [
    "## Implementation\n",
    "This implementation of RNN using `nn.RNNCell`\n",
    "\n",
    "**Dimensions** \n",
    "- `b` : batch size\n",
    "- `s` : input sequence length\n",
    "- `d` : RNN layer depth(num_layer)\n",
    "- `h` : hidden vector size\n",
    "- `v` : vocabulary size\n",
    "### imports"
   ]
  },
  {
   "cell_type": "code",
   "execution_count": 12,
   "metadata": {},
   "outputs": [],
   "source": [
    "#%%\n",
    "import torch\n",
    "from torch import nn, optim"
   ]
  },
  {
   "attachments": {},
   "cell_type": "markdown",
   "metadata": {},
   "source": [
    "### Model\n",
    "input|<span style=\"font-weight:normal\">- Sequence Data `(torch.tensor: (b, s, v))`<br />- hidden state `(torch.tensor: (d, b, h))`</span>\n",
    "|:-------:|:---------------------------------------------------------------------------------|\n",
    "**output**| (Output Sequence, hidden state) `(Tuple[torch.tensor]: ((b, s, h), (d, b, h)))`\n",
    "\n",
    ": `RNN` implements Recurrent Neural Networks with pytorch's `nn.RNNCell`.\n",
    "\n",
    "![](asset/track.PNG)"
   ]
  },
  {
   "cell_type": "code",
   "execution_count": 13,
   "metadata": {},
   "outputs": [],
   "source": [
    "class RNN(nn.Module):\n",
    "    def __init__(self,input_size, hidden_size, num_layers):\n",
    "        super(RNN, self).__init__()\n",
    "        self.rnncells = [nn.RNNCell(hidden_size if i else input_size, hidden_size) for i in range(num_layers)]\n",
    "        self.hidden_size = hidden_size\n",
    "        self.num_layers = num_layers\n",
    "\n",
    "    def forward(self, xs, h):\n",
    "        xn, h = [], list(h)\n",
    "        for m, x in enumerate(xs):\n",
    "            for n, (hl, cell) in enumerate(zip(h, self.rnncells)):\n",
    "                h[n] = x = cell(x, hl)\n",
    "            xn.append(h[-1])\n",
    "        return torch.stack(xn), torch.stack(h)"
   ]
  },
  {
   "attachments": {},
   "cell_type": "markdown",
   "metadata": {},
   "source": [
    "#### Test model"
   ]
  },
  {
   "cell_type": "code",
   "execution_count": 14,
   "metadata": {},
   "outputs": [
    {
     "name": "stdout",
     "output_type": "stream",
     "text": [
      "rnn_out.shape=torch.Size([3, 2, 4])\n",
      "rnn_out=tensor([[[0.3235, 0.8002, 0.3346, 0.2691],\n",
      "         [0.3235, 0.8002, 0.3346, 0.2691]],\n",
      "\n",
      "        [[0.2259, 0.5675, 0.2720, 0.1395],\n",
      "         [0.2259, 0.5675, 0.2720, 0.1395]],\n",
      "\n",
      "        [[0.2359, 0.6906, 0.1799, 0.0532],\n",
      "         [0.2359, 0.6906, 0.1799, 0.0532]]], grad_fn=<StackBackward0>)\n",
      "myrnn_out.shape=torch.Size([3, 2, 4])\n",
      "myrnn_out=tensor([[[-0.5453, -0.5627, -0.2347,  0.1454],\n",
      "         [-0.5453, -0.5627, -0.2347,  0.1454]],\n",
      "\n",
      "        [[-0.0454, -0.4844, -0.2785, -0.3448],\n",
      "         [-0.0454, -0.4844, -0.2785, -0.3448]],\n",
      "\n",
      "        [[-0.2108, -0.5938, -0.4212, -0.0748],\n",
      "         [-0.2108, -0.5938, -0.4212, -0.0748]]], grad_fn=<StackBackward0>)\n"
     ]
    }
   ],
   "source": [
    "torch.manual_seed(0)\n",
    "input_size, hidden_size, num_layers = 3, 4, 2\n",
    "batch_size = 2\n",
    "seq_len = 3\n",
    "\n",
    "rnn = nn.RNN(input_size=input_size, hidden_size=hidden_size, num_layers=num_layers)\n",
    "myrnn = RNN(input_size=input_size, hidden_size=hidden_size, num_layers=num_layers)\n",
    "\n",
    "x = torch.ones((seq_len, batch_size, input_size))\n",
    "h = torch.zeros((num_layers, batch_size, hidden_size))\n",
    "\n",
    "rnn_out, rnn_h_next = rnn(x, h)\n",
    "myrnn_out, myrnn_h_next = myrnn(x, h)\n",
    "\n",
    "print(f'{rnn_out.shape=}\\n{rnn_out=}')\n",
    "print(f\"{myrnn_out.shape=}\\n{myrnn_out=}\")"
   ]
  },
  {
   "attachments": {},
   "cell_type": "markdown",
   "metadata": {},
   "source": [
    "## 2. RNN Exercise\n",
    "..."
   ]
  },
  {
   "attachments": {},
   "cell_type": "markdown",
   "metadata": {},
   "source": [
    "## Exercise\n",
    "Train `nn.RNN` so it predicts a sentence `'deep learning programming'`\n",
    "\n",
    "### imports"
   ]
  },
  {
   "cell_type": "code",
   "execution_count": 31,
   "metadata": {},
   "outputs": [],
   "source": [
    "import torch\n",
    "from torch import nn, optim\n",
    "import torch.nn.functional as F\n",
    "from tqdm import tqdm, trange\n",
    "import matplotlib.pyplot as plt\n",
    "import os\n",
    "\n",
    "os.environ['KMP_DUPLICATE_LIB_OK']='True'"
   ]
  },
  {
   "attachments": {},
   "cell_type": "markdown",
   "metadata": {},
   "source": [
    "### Data"
   ]
  },
  {
   "cell_type": "code",
   "execution_count": 32,
   "metadata": {},
   "outputs": [],
   "source": [
    "cstr = \"deep learning programming\"\n",
    "\n",
    "num2char = sorted(set(cstr))\n",
    "char2num = {w:n for n, w in enumerate(num2char)}\n",
    "\n",
    "t_batch = torch.tensor([char2num[c] for c in cstr])\n",
    "x_batch = F.one_hot(t_batch, len(num2char)).float()\n",
    "\n",
    "x = x_batch[:-1]\n",
    "t = t_batch[1:]"
   ]
  },
  {
   "attachments": {},
   "cell_type": "markdown",
   "metadata": {},
   "source": [
    "### Model\n",
    "input|<span style=\"font-weight:normal\">- Sentence Sequence Data `(torch.tensor: (s, b, v))`<br />- hidden state `(torch.tensor: (d, b, h))`</span>\n",
    "|:-------:|:---------------------------------------------------------------------------------|\n",
    "**output**| Predicted one-hot Sequence `(torch.tensor: (s, b, v))`\n",
    "\n",
    ": `CharRNN` uses `nn.RNN` and Dense layer to predict alphabet characters in one-hot."
   ]
  },
  {
   "cell_type": "code",
   "execution_count": 33,
   "metadata": {},
   "outputs": [],
   "source": [
    "class CharRNN(nn.Module):\n",
    "    def __init__(self, input_size, hidden_size, output_size):\n",
    "        super(CharRNN, self).__init__()\n",
    "        self.hidden_size = hidden_size\n",
    "        self.rnn = nn.RNN(input_size=input_size, hidden_size=hidden_size)\n",
    "        self.fc = nn.Sequential(\n",
    "            nn.Linear(hidden_size, output_size),\n",
    "            nn.LogSoftmax()\n",
    "        )\n",
    "\n",
    "    def forward(self, x, h=None):\n",
    "        if h is None:\n",
    "            h = torch.zeros(1, self.hidden_size)\n",
    "        out, hn = self.rnn(x, h)\n",
    "        y = self.fc(out)\n",
    "        return y"
   ]
  },
  {
   "attachments": {},
   "cell_type": "markdown",
   "metadata": {},
   "source": [
    "#### Declare Model"
   ]
  },
  {
   "cell_type": "code",
   "execution_count": 34,
   "metadata": {},
   "outputs": [],
   "source": [
    "input_size, hidden_size = len(chars), 10\n",
    "rnn = CharRNN(input_size, hidden_size, input_size)"
   ]
  },
  {
   "attachments": {},
   "cell_type": "markdown",
   "metadata": {},
   "source": [
    "### Training\n",
    "#### Train setup"
   ]
  },
  {
   "cell_type": "code",
   "execution_count": 35,
   "metadata": {},
   "outputs": [],
   "source": [
    "optimizer = optim.Adam(rnn.parameters(), lr=0.01)\n",
    "lossfn = nn.NLLLoss()"
   ]
  },
  {
   "attachments": {},
   "cell_type": "markdown",
   "metadata": {},
   "source": [
    "#### Training loop"
   ]
  },
  {
   "cell_type": "code",
   "execution_count": 36,
   "metadata": {},
   "outputs": [
    {
     "name": "stderr",
     "output_type": "stream",
     "text": [
      "  0%|          | 0/1000 [00:00<?, ?it/s]c:\\Users\\PC\\anaconda3\\envs\\diffuser\\lib\\site-packages\\torch\\nn\\modules\\container.py:139: UserWarning: Implicit dimension choice for log_softmax has been deprecated. Change the call to include dim=X as an argument.\n",
      "  input = module(input)\n",
      "100%|██████████| 1000/1000 [00:01<00:00, 857.07it/s]\n"
     ]
    }
   ],
   "source": [
    "rnn.train()\n",
    "losses = []\n",
    "for epoch in trange(1000):\n",
    "    y = rnn(x)\n",
    "    L = lossfn(y, t)\n",
    "    \n",
    "    optimizer.zero_grad()\n",
    "    L.backward()\n",
    "    optimizer.step()\n",
    "\n",
    "    losses.append(L.item())"
   ]
  },
  {
   "attachments": {},
   "cell_type": "markdown",
   "metadata": {},
   "source": [
    "#### Loss curve"
   ]
  },
  {
   "cell_type": "code",
   "execution_count": 37,
   "metadata": {},
   "outputs": [
    {
     "data": {
      "text/plain": [
       "[<matplotlib.lines.Line2D at 0x2bd15da86d0>]"
      ]
     },
     "execution_count": 37,
     "metadata": {},
     "output_type": "execute_result"
    },
    {
     "data": {
      "image/png": "[encoded data removed]",
      "text/plain": [
       "<Figure size 640x480 with 1 Axes>"
      ]
     },
     "metadata": {},
     "output_type": "display_data"
    }
   ],
   "source": [
    "plt.grid()\n",
    "plt.plot(losses)"
   ]
  },
  {
   "attachments": {},
   "cell_type": "markdown",
   "metadata": {},
   "source": [
    "#### Sentence Prediction Test"
   ]
  },
  {
   "cell_type": "code",
   "execution_count": 38,
   "metadata": {},
   "outputs": [
    {
     "name": "stdout",
     "output_type": "stream",
     "text": [
      "    input:  d|e|e|p| |l|e|a|r|n|i|n|g| |p|r|o|g|r|a|m|m|i|n\n",
      "predicted:  e|e|p| |l|e|a|r|n|i|n|g| |p|r|o|g|r|a|m|m|i|n|g\n"
     ]
    }
   ],
   "source": [
    "rnn.eval()\n",
    "y = rnn(x).detach()\n",
    "print(\"    input: \", '|'.join(cstr[:-1]))\n",
    "print(\"predicted: \", '|'.join([num2char[c.item()] for c in torch.argmax(y, dim=1)]))"
   ]
  }
 ],
 "metadata": {
  "kernelspec": {
   "display_name": "diffuser",
   "language": "python",
   "name": "python3"
  },
  "language_info": {
   "codemirror_mode": {
    "name": "ipython",
    "version": 3
   },
   "file_extension": ".py",
   "mimetype": "text/x-python",
   "name": "python",
   "nbconvert_exporter": "python",
   "pygments_lexer": "ipython3",
   "version": "3.8.13 | packaged by conda-forge | (default, Mar 25 2022, 05:59:45) [MSC v.1929 64 bit (AMD64)]"
  },
  "orig_nbformat": 4,
  "vscode": {
   "interpreter": {
    "hash": "2f5c84e768aaf3245ad86fd1a9f56f44d36ec416978a7522f84de9e6a81abc6f"
   }
  }
 },
 "nbformat": 4,
 "nbformat_minor": 2
}
