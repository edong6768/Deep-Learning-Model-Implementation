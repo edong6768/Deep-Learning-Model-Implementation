{
 "cells": [
  {
   "attachments": {},
   "cell_type": "markdown",
   "metadata": {},
   "source": [
    "# Sequence to Sequence\n",
    "..."
   ]
  },
  {
   "attachments": {},
   "cell_type": "markdown",
   "metadata": {},
   "source": [
    "## Implementation\n",
    "This implementation of Sequence to Sequence Model is based on LSTM and trained on custom dataset.\n",
    "\n",
    "**Dimensions** \n",
    "- `b` : batch size\n",
    "- `si` : input sequence length\n",
    "- `st` : target sequence length\n",
    "- `h` : hidden vector size\n",
    "- `wv` : embedding word vector size\n",
    "- `v` : vocabulary size\n",
    "### imports"
   ]
  },
  {
   "cell_type": "code",
   "execution_count": 1,
   "metadata": {},
   "outputs": [
    {
     "name": "stderr",
     "output_type": "stream",
     "text": [
      "c:\\Users\\PC\\anaconda3\\envs\\diffuser\\lib\\site-packages\\tqdm\\auto.py:22: TqdmWarning: IProgress not found. Please update jupyter and ipywidgets. See https://ipywidgets.readthedocs.io/en/stable/user_install.html\n",
      "  from .autonotebook import tqdm as notebook_tqdm\n"
     ]
    }
   ],
   "source": [
    "#%%\n",
    "# data\n",
    "import torch\n",
    "from torch import nn, optim\n",
    "from torch.utils.data import DataLoader\n",
    "from tqdm import trange\n",
    "import matplotlib.pyplot as plt\n",
    "import os\n",
    "import numpy as np\n",
    "\n",
    "from toy_data.ncutils import NumCharCorpus\n",
    "\n",
    "os.environ['KMP_DUPLICATE_LIB_OK']='True'\n",
    "device = torch.device(\"cuda\" if torch.cuda.is_available() else \"cpu\")"
   ]
  },
  {
   "attachments": {},
   "cell_type": "markdown",
   "metadata": {},
   "source": [
    "### Data Preperation (Custom Dataset, DataLoader)"
   ]
  },
  {
   "cell_type": "code",
   "execution_count": 2,
   "metadata": {},
   "outputs": [],
   "source": [
    "ncc = NumCharCorpus()\n",
    "ncc.fliplr_x()\n",
    "vocab_size = ncc.vocab_size\n",
    "wv_size = 16\n",
    "hidden_size = 100\n",
    "batch_size = 64\n",
    "\n",
    "ds_train = ncc.get_dataset(train=True)\n",
    "train_loader = DataLoader(ds_train, batch_size=batch_size)\n",
    "ds_test = ncc.get_dataset(train=False)\n",
    "test_loader = DataLoader(ds_test, batch_size=batch_size)"
   ]
  },
  {
   "attachments": {},
   "cell_type": "markdown",
   "metadata": {},
   "source": [
    "### Seq2seq Model\n",
    "#### Encoder\n",
    "input|<span style=\"font-weight:normal\"> Indexed Sequence Data `(torch.tensor: (b, si, 1))`</span>\n",
    "|:-------:|:---------------------------------------------------------------------------------|\n",
    "**output**| (hidden state, cell state) `(Tuple[torch.tensor]: ((b, h), (b, h)))`\n",
    "\n",
    "`Encoder` is an LSTM model with embedding layer infront. It takes in sequence datas(expressed as indexes in a vocabulary) and outputs hidden states of LSTM.\n",
    "\n",
    "- `nn.Embedding(vocab_size, wv_size)` layer is used when input must be a form of one-hot. Instead of feeding one-hot to a `nn.Linear` layer, `nn.Embedding` takes in an index and returns a vector(or embedding). The embedding has `require_grad=True` so it can update the embedding. layer is essentially indexes a linear layer, where it takes an index number and returns a embedding. `nn.Embedding` layer is essentially indexes a linear layer."
   ]
  },
  {
   "cell_type": "code",
   "execution_count": 3,
   "metadata": {},
   "outputs": [],
   "source": [
    "class Encoder(nn.Module):\n",
    "    def __init__(self, vocab_size, wv_size, hidden_size):\n",
    "        super().__init__()\n",
    "        self.embed = nn.Embedding(vocab_size, wv_size)\n",
    "        self.embed.weight.data /= 100\n",
    "        self.rnn = nn.LSTM(wv_size, hidden_size, batch_first=True)\n",
    "        \n",
    "    def forward(self, x):\n",
    "        x = self.embed(x)\n",
    "        _, h = self.rnn(x)\n",
    "        return h"
   ]
  },
  {
   "attachments": {},
   "cell_type": "markdown",
   "metadata": {},
   "source": [
    "#### Decoder\n",
    "`Decoder` is an LSTM model with embedding layer infront. It takes in sequence datas(expressed as indexes in a vocabulary) with (hidden state, cell state) from `Encoder` as tuple and outputs one-hot Sequence. Decoder had different pipeline for *training* and *inference*, thus we use torch standard of `forward` method for training and custom `generate` method for inference.\n",
    "\n",
    "- `forward`: In training, we want to force correct seqence for the input of LSTM. Therefore we input target sequence data and the hidden state of the `Encoder`.\n",
    "\n",
    "    input|<span style=\"font-weight:normal\">- Indexed Sequence Data `(torch.tensor: (b, st, 1))`,<br />- (hidden state, cell state) `(Tuple[torch.tensor]: ((b, h), (b, h)))`</span>\n",
    "    |:-------:|:---------------------------------------------------------------------------------|\n",
    "    **output**| Output one-hot Sequence `(torch.tensor : (b, v))`\n",
    "<br />\n",
    "\n",
    "- `generate` :  At inference, since we want the Decoder to generate from the hidden states of the `Encoder` without giving the target sequence, it only takes in the starting index and the hidden states and autoregressively generates output sequence with length=`sample_size`\n",
    "\n",
    "    input|<span style=\"font-weight:normal\">- (hidden state, cell state) `(Tuple[torch.tensor]: ((b, h), (b, h)))`<br />- Starting index `(torch.tensor: (b, 1, 1))`,<br />- sample_size `(int: st)`</span>\n",
    "    |:-------:|:---------------------------------------------------------------------------------|\n",
    "    **output**| Generated Indexed Sequence `(torch.tensor : (b, sample_size, 1))`\n",
    "\n",
    "    Since `nn.LSTM` must take in the full sequence and outputs a sequence with the same length, in order to generate a sequence autoregressively, we **need to loop on `nn.LSTM` and feed the input sequence with length of 1 repeatedly**."
   ]
  },
  {
   "cell_type": "code",
   "execution_count": 4,
   "metadata": {},
   "outputs": [],
   "source": [
    "class Decoder(nn.Module):\n",
    "    def __init__(self, vocab_size, wv_size, hidden_size):\n",
    "        super().__init__()\n",
    "        self.embed = nn.Embedding(vocab_size, wv_size)\n",
    "        self.embed.weight.data /= 100\n",
    "        self.rnn = nn.LSTM(wv_size, hidden_size, batch_first=True)\n",
    "        self.linear = nn.Linear(hidden_size, vocab_size)\n",
    "    \n",
    "    def forward(self, x, h):\n",
    "        x = self.embed(x)\n",
    "        x, _ = self.rnn(x, h)\n",
    "        x = self.linear(x)\n",
    "        return x\n",
    "    \n",
    "    def generate(self, h, start_id, sample_size):\n",
    "        x, xs = start_id, []            # x: (b, 1, 1)\n",
    "        for _ in range(sample_size):\n",
    "            x = self.embed(x)           # x: (b, 1, wv)\n",
    "            x, h = self.rnn(x, h)       # x: (b, 1, h)\n",
    "            x = self.linear(x)          # x: (b, 1, v)\n",
    "            \n",
    "            x = torch.argmax(x, dim=2)  # x: (b, 1, 1)\n",
    "            xs.append(x.detach())       # xs: [(b, 1, 1)]*st\n",
    "        xs = torch.stack(xs, dim=1)     # xs: (b, st, 1, 1)\n",
    "        return xs[...,0] # remove dummy sequence length 1 we had earlier, xs: (b, st, 1)"
   ]
  },
  {
   "attachments": {},
   "cell_type": "markdown",
   "metadata": {},
   "source": [
    "#### Seq2seq\n",
    ": `Seq2seq` module wraps `Encoder` and `Decoder`. It feeds the final hidden states of the `Encoder` to the `Decoder` in feed-forward. Because `Decoder` have different pipeline in *training* and *inference*, `Seq2seq` also use torch standard of `forward` method for training and custom `inference` method for inference.\n",
    "\n",
    "- `forward`: In training, we input target sequence data and the hidden state of the `Encoder` to the `Decoder`.\n",
    "\n",
    "    input|<span style=\"font-weight:normal\">- Input Indexed Sequence Data `(torch.tensor: (b, si, 1))`<br />- Target Indexed Sequence Data `(torch.tensor: (b, st, 1)`</span>\n",
    "    |:-------:|:---------------------------------------------------------------------------------|\n",
    "    **output**|- Output one-hot Sequence `(torch.tensor : (b, v))`<br />- Target Indexed Sequence Data  `(torch.tensor: (b, st, 1)`\n",
    "<br />\n",
    "\n",
    "- `inference` :  At inference, we input the starting index, the final hidden states of the `Encoder` and the `sample_size` to the `Decoder.generate` method.\n",
    "\n",
    "    input|<span style=\"font-weight:normal\">- Input Indexed Sequence Data `(torch.tensor: (b, si, 1))`<br />- Target Indexed Sequence Data `(torch.tensor: (b, st, 1)`<br />- sample_size `(int: st)`</span>\n",
    "    |:-------:|:---------------------------------------------------------------------------------|\n",
    "    **output**|- Generated Indexed Sequence `(torch.tensor : (b, st, 1))`<br />- Target Indexed Sequence Data  `(torch.tensor: (b, st, 1)`"
   ]
  },
  {
   "cell_type": "code",
   "execution_count": 5,
   "metadata": {},
   "outputs": [],
   "source": [
    "class Seq2seq(nn.Module):\n",
    "    def __init__(self, vocab_size, wv_size, hidden_size):\n",
    "        super().__init__()\n",
    "        self.encoder = Encoder(vocab_size, wv_size, hidden_size)\n",
    "        self.decoder = Decoder(vocab_size, wv_size, hidden_size)\n",
    "        \n",
    "    def forward(self, x, t):\n",
    "        h = self.encoder(x)\n",
    "        y = self.decoder(t[:, :-1], h)\n",
    "        return y, t[:, 1:]\n",
    "    \n",
    "    def inference(self, x, t, sample_size):\n",
    "        h = self.encoder(x)\n",
    "        y = self.decoder.generate(h, t[:,:1], sample_size)\n",
    "        return y, t[:, 1:]"
   ]
  },
  {
   "attachments": {},
   "cell_type": "markdown",
   "metadata": {},
   "source": [
    "#### Declare model"
   ]
  },
  {
   "cell_type": "code",
   "execution_count": 6,
   "metadata": {},
   "outputs": [],
   "source": [
    "model = Seq2seq(vocab_size, wv_size, hidden_size).to(\"cuda\")"
   ]
  },
  {
   "attachments": {},
   "cell_type": "markdown",
   "metadata": {},
   "source": [
    "### Peeky Seq2seq Model\n",
    "#### Peeky Decoder\n",
    "`PeekyDecoder` is similar to normal Seq2seq `Decoder` but the hidden states of the `Encoder` is concatenated to the `nn.LSTM` input and `nn.Linear` input. Therefore we slightly modify the `forward` and `generate` method of `Decoder` class."
   ]
  },
  {
   "cell_type": "code",
   "execution_count": 16,
   "metadata": {},
   "outputs": [],
   "source": [
    "class PeekyDecoder(nn.Module):\n",
    "    def __init__(self, vocab_size, wv_size, hidden_size):\n",
    "        super().__init__()\n",
    "        self.embed = nn.Embedding(vocab_size, wv_size)\n",
    "        self.embed.weight.data /= 100\n",
    "        self.rnn = nn.LSTM(wv_size+hidden_size*2, hidden_size, batch_first=True)\n",
    "        self.linear = nn.Linear(hidden_size*3, vocab_size)\n",
    "    \n",
    "    def forward(self, x, h):\n",
    "        x = self.embed(x)\n",
    "        *hh, = map(lambda x: torch.permute(x, (1, 0, 2)).repeat(1, 4, 1), h)\n",
    "        x, _ = self.rnn(torch.cat((x, *hh), dim=-1), h)\n",
    "        x = self.linear(torch.cat((x, *hh), dim=-1))\n",
    "        return x\n",
    "    \n",
    "    def generate(self, h, start_id, sample_size):\n",
    "        x, xs = start_id, []\n",
    "        *hh, = map(lambda x: torch.permute(x, (1, 0, 2)), h)\n",
    "        for _ in range(sample_size):\n",
    "            x = self.embed(x)\n",
    "            x, h = self.rnn(torch.cat((x, *hh), dim=-1), h)\n",
    "            x = self.linear(torch.cat((x, *hh), dim=-1))\n",
    "            x = torch.argmax(x, dim=2)\n",
    "            xs.append(x.detach())\n",
    "        return torch.stack(xs, dim=1)[...,0]"
   ]
  },
  {
   "attachments": {},
   "cell_type": "markdown",
   "metadata": {},
   "source": [
    "#### PeekySeq2seq\n",
    ": `PeekySeq2seq` inherits `Seq2seq` and overloads `Decoder` to `PeekyDecoder`."
   ]
  },
  {
   "cell_type": "code",
   "execution_count": 17,
   "metadata": {},
   "outputs": [],
   "source": [
    "class PeekySeq2seq(Seq2seq):\n",
    "    def __init__(self, vocab_size, wv_size, hidden_size):\n",
    "        super().__init__(vocab_size, wv_size, hidden_size)\n",
    "        self.decoder = PeekyDecoder(vocab_size, wv_size, hidden_size)"
   ]
  },
  {
   "attachments": {},
   "cell_type": "markdown",
   "metadata": {},
   "source": [
    "#### Declare model"
   ]
  },
  {
   "cell_type": "code",
   "execution_count": null,
   "metadata": {},
   "outputs": [],
   "source": [
    "peekyModel = PeekySeq2seq(vocab_size, wv_size, hidden_size).to(\"cuda\")"
   ]
  },
  {
   "attachments": {},
   "cell_type": "markdown",
   "metadata": {},
   "source": [
    "### Training Setup\n",
    "#### Evaluating seq2seq\n",
    "We first define a function for evaluting the performance of our Seq2seq model by the accuracy of the output."
   ]
  },
  {
   "cell_type": "code",
   "execution_count": 7,
   "metadata": {},
   "outputs": [],
   "source": [
    "def eval_seq2seq(model, test_loader, device):\n",
    "    acc = tot = 0\n",
    "    for x, t in test_loader:\n",
    "        x, t = x.to(device), t.to(device)\n",
    "        y, dts = model.inference(x, t, 4)\n",
    "        y, dts = y.flatten(), dts.flatten()\n",
    "        \n",
    "        tot += y.shape[0]\n",
    "        acc += torch.sum(y==dts).item()\n",
    "    acc /= tot\n",
    "    return acc"
   ]
  },
  {
   "attachments": {},
   "cell_type": "markdown",
   "metadata": {},
   "source": [
    "#### Trainer Function\n",
    "We also make training process as a funtion to use it multiple times for various Seq2seq defined models. Both training setup and training loop is contained in this function."
   ]
  },
  {
   "cell_type": "code",
   "execution_count": 10,
   "metadata": {},
   "outputs": [],
   "source": [
    "def trainer(model, train_loader, test_loader):\n",
    "    optimizer = optim.Adam(model.parameters(), lr=0.01)\n",
    "    lossfn = nn.CrossEntropyLoss()\n",
    "    loss = []\n",
    "    accuracy = []\n",
    "\n",
    "    model.train()\n",
    "    pbar = trange(30, desc='epoch: 1')\n",
    "    for epoch in pbar:\n",
    "        aloss = 0\n",
    "        for x, t in train_loader: \n",
    "            x, t = x.to(\"cuda\"), t.to(\"cuda\")\n",
    "            y, dts = model(x, t)\n",
    "            \n",
    "            optimizer.zero_grad()\n",
    "            L = lossfn(y.reshape(-1, vocab_size), dts.flatten()) \n",
    "            L.backward()\n",
    "            \n",
    "            optimizer.step()\n",
    "            aloss += L.item()\n",
    "        loss.append(aloss / x.shape[0])\n",
    "        accuracy.append(eval_seq2seq(model, test_loader, \"cuda\"))\n",
    "        pbar.set_description(f'epoch: {epoch+1}, loss: {loss[-1]}, acc: {accuracy[-1]}')\n",
    "        \n",
    "    return loss, accuracy"
   ]
  },
  {
   "attachments": {},
   "cell_type": "markdown",
   "metadata": {},
   "source": [
    "### Training\n",
    "#### Training Seq2Seq"
   ]
  },
  {
   "cell_type": "code",
   "execution_count": 15,
   "metadata": {},
   "outputs": [
    {
     "name": "stderr",
     "output_type": "stream",
     "text": [
      "epoch: 30, loss: 2.24320915233875, acc: 0.99715: 100%|██████████| 30/30 [00:38<00:00,  1.29s/it]  \n"
     ]
    }
   ],
   "source": [
    "loss, accuracy = trainer(model, train_loader, test_loader)"
   ]
  },
  {
   "attachments": {},
   "cell_type": "markdown",
   "metadata": {},
   "source": [
    "#### Loss and Accuracy curve"
   ]
  },
  {
   "cell_type": "code",
   "execution_count": 14,
   "metadata": {},
   "outputs": [
    {
     "data": {
      "text/plain": [
       "(Text(0.5, 0, 'epoch'), None, (0.0, 1.0))"
      ]
     },
     "execution_count": 14,
     "metadata": {},
     "output_type": "execute_result"
    },
    {
     "data": {
      "image/png": "[encoded data removed]",
      "text/plain": [
       "<Figure size 640x480 with 2 Axes>"
      ]
     },
     "metadata": {},
     "output_type": "display_data"
    }
   ],
   "source": [
    "plt.subplot(121)\n",
    "plt.plot(loss), plt.title(\"loss\")\n",
    "plt.xlabel(\"epoch\"), plt.grid()\n",
    "\n",
    "plt.subplot(122)\n",
    "plt.plot(accuracy, '.:'), plt.title(\"accuracy\")\n",
    "plt.xlabel(\"epoch\"), plt.grid(), plt.ylim(0, 1)"
   ]
  },
  {
   "attachments": {},
   "cell_type": "markdown",
   "metadata": {},
   "source": [
    "#### Training PeekySeq2Seq"
   ]
  },
  {
   "cell_type": "code",
   "execution_count": 21,
   "metadata": {},
   "outputs": [
    {
     "name": "stderr",
     "output_type": "stream",
     "text": [
      "epoch: 30, loss: 1.588670204153459, acc: 0.9978: 100%|██████████| 30/30 [00:41<00:00,  1.37s/it]  \n"
     ]
    }
   ],
   "source": [
    "loss, accuracy = trainer(peekyModel, train_loader, test_loader)"
   ]
  },
  {
   "attachments": {},
   "cell_type": "markdown",
   "metadata": {},
   "source": [
    "#### Loss and Accuracy curve"
   ]
  },
  {
   "cell_type": "code",
   "execution_count": 22,
   "metadata": {},
   "outputs": [
    {
     "data": {
      "text/plain": [
       "(Text(0.5, 0, 'epoch'), None, (0.0, 1.0))"
      ]
     },
     "execution_count": 22,
     "metadata": {},
     "output_type": "execute_result"
    },
    {
     "data": {
      "image/png": "[encoded data removed]",
      "text/plain": [
       "<Figure size 640x480 with 2 Axes>"
      ]
     },
     "metadata": {},
     "output_type": "display_data"
    }
   ],
   "source": [
    "plt.subplot(121)\n",
    "plt.plot(loss), plt.title(\"loss\")\n",
    "plt.xlabel(\"epoch\"), plt.grid()\n",
    "\n",
    "plt.subplot(122)\n",
    "plt.plot(accuracy, '.:'), plt.title(\"accuracy\")\n",
    "plt.xlabel(\"epoch\"), plt.grid(), plt.ylim(0, 1)"
   ]
  }
 ],
 "metadata": {
  "kernelspec": {
   "display_name": "diffuser",
   "language": "python",
   "name": "python3"
  },
  "language_info": {
   "codemirror_mode": {
    "name": "ipython",
    "version": 3
   },
   "file_extension": ".py",
   "mimetype": "text/x-python",
   "name": "python",
   "nbconvert_exporter": "python",
   "pygments_lexer": "ipython3",
   "version": "3.8.13"
  },
  "orig_nbformat": 4,
  "vscode": {
   "interpreter": {
    "hash": "2f5c84e768aaf3245ad86fd1a9f56f44d36ec416978a7522f84de9e6a81abc6f"
   }
  }
 },
 "nbformat": 4,
 "nbformat_minor": 2
}
